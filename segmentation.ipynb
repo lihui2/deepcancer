{
 "cells": [
  {
   "cell_type": "markdown",
   "metadata": {},
   "source": [
    "# SEGMENTATION STEP OF DEEPCANCER\n",
    "\n",
    "    *-This is the model that can be used for segmenting tumors from healthy brain areas.\n",
    "    -Its accuracy is estimated 96%.\n",
    "    -This model can be used via transfer learning, unet.h5 and weights.h5 files are below.*\n",
    "    "
   ]
  },
  {
   "cell_type": "markdown",
   "metadata": {},
   "source": [
    "# 1.IMPORTING LIBRARIES FOR OUR PROJECT\n",
    "    \n",
    " -We must import our essential libraries tensorflow, os, glob, and imageio. Pandas and NumPy libraries are optional.\n",
    " -Loading those libraries can take a while.*"
   ]
  },
  {
   "cell_type": "code",
   "execution_count": 10,
   "metadata": {},
   "outputs": [],
   "source": [
    "import os\n",
    "import tensorflow as tf\n",
    "import pandas as pd\n",
    "import numpy as np\n",
    "import imageio as io\n",
    "import matplotlib.pyplot as plt\n",
    "import glob"
   ]
  },
  {
   "cell_type": "markdown",
   "metadata": {},
   "source": [
    "# 2.LOADING AND PREPROCESSING OUR DATASET \n",
    "\n",
    "    -Secondly, we must load our data for training a model on it later. \n",
    "    -I use a breast ultrason library for training my brain-tumor segmentation model, but you can use any tumorlike dataset you want.\n",
    "    -In my module I have a (300,300) shaped input and (116,116) shaped mask, and my preprocessing functions are configured for them.*"
   ]
  },
  {
   "cell_type": "code",
   "execution_count": 11,
   "metadata": {},
   "outputs": [],
   "source": [
    "def preprocessing(path, shape=(300,300), ismask=False):\n",
    "    \n",
    "    img = tf.io.read_file(path)\n",
    "    img = tf.image.decode_jpeg(img, channels=1)\n",
    "    img = tf.image.convert_image_dtype(img, tf.float32)\n",
    "    img = tf.image.resize(img, size=[shape[0],shape[1]])\n",
    "    \n",
    "    if ismask:\n",
    "       \n",
    "        mirror = (img+1)%2\n",
    "        \n",
    "        return tf.concat([img,mirror],2)\n",
    "    \n",
    "    return img"
   ]
  },
  {
   "cell_type": "code",
   "execution_count": 12,
   "metadata": {},
   "outputs": [],
   "source": [
    "x_files = glob.glob('./images/*.png')\n",
    "y_files = glob.glob('./masks/*.png')\n",
    "files_ds = tf.data.Dataset.from_tensor_slices((x_files, y_files))\n",
    "files_ds = files_ds.map(lambda x, y: (preprocessing(x, (300,300)), preprocessing(y, (116,116), ismask=True))).batch(1)"
   ]
  },
  {
   "cell_type": "markdown",
   "metadata": {},
   "source": [
    "# 3.DEFINING OUR U_NET MODEL FOR IMAGE SEGMENTATION\n",
    "\n",
    "    -I built my model step by step, clarifying each part.\n",
    "    -You can define convolutional and upsampling parts, and build your model with them."
   ]
  },
  {
   "cell_type": "code",
   "execution_count": 13,
   "metadata": {},
   "outputs": [],
   "source": [
    "def u_net(input_size=(300,300,1), filter=64):\n",
    "\n",
    "    inputs = tf.keras.Input((300,300,1))\n",
    "\n",
    "\n",
    "    conv1skip = tf.keras.layers.Conv2D(filters=filter, kernel_size=(3,3), activation='relu', kernel_initializer='he_normal')(inputs)\n",
    "    conv1skip = tf.keras.layers.Dropout(0.3)(conv1skip)\n",
    "    conv1skip = tf.keras.layers.Conv2D(filters=filter, kernel_size=(3,3), activation='relu', kernel_initializer='he_normal')(conv1skip)\n",
    "    conv1 = tf.keras.layers.MaxPool2D(pool_size=(2,2), strides=(2,2))(conv1skip)\n",
    "\n",
    "    conv2skip = tf.keras.layers.Conv2D(filters=filter*2, kernel_size=(3,3), activation='relu', kernel_initializer='he_normal')(conv1)\n",
    "    conv2skip = tf.keras.layers.Dropout(0.3)(conv2skip)\n",
    "    conv2skip = tf.keras.layers.Conv2D(filters=filter*2, kernel_size=(3,3), activation='relu', kernel_initializer='he_normal')(conv2skip)\n",
    "    conv2 = tf.keras.layers.MaxPool2D(pool_size=(2,2), strides=(2,2))(conv2skip)\n",
    "\n",
    "    conv3skip = tf.keras.layers.Conv2D(filters=filter*4, kernel_size=(3,3), activation='relu', kernel_initializer='he_normal')(conv2)\n",
    "    conv3skip = tf.keras.layers.Dropout(0.3)(conv3skip)\n",
    "    conv3skip = tf.keras.layers.Conv2D(filters=filter*4, kernel_size=(3,3), activation='relu', kernel_initializer='he_normal')(conv3skip)\n",
    "    conv3 = tf.keras.layers.MaxPool2D(pool_size=(2,2), strides=(2,2))(conv3skip)\n",
    "\n",
    "    conv4skip = tf.keras.layers.Conv2D(filters=filter*8, kernel_size=(3,3), activation='relu', kernel_initializer='he_normal')(conv3)\n",
    "    conv4skip = tf.keras.layers.Dropout(0.3)(conv4skip)\n",
    "    conv4skip = tf.keras.layers.Conv2D(filters=filter*8, kernel_size=(3,3), activation='relu', kernel_initializer='he_normal')(conv4skip)\n",
    "    conv4 = tf.keras.layers.MaxPool2D(pool_size=(2,2), strides=(2,2))(conv4skip)\n",
    "\n",
    "\n",
    "    contractive = tf.keras.layers.Conv2D(1024, kernel_size=(3,3), activation='relu', kernel_initializer='he_normal')(conv4)\n",
    "    contractive = tf.keras.layers.Dropout(0.3)(contractive)    \n",
    "    contractive = tf.keras.layers.Conv2D(512, kernel_size=(3,3), activation='relu')(contractive)\n",
    "        \n",
    "    contractive = tf.keras.layers.UpSampling2D((2,2))(contractive)\n",
    "    cropped = tf.keras.layers.Cropping2D(cropping=int((conv4skip.shape[1]-contractive.shape[1])/2))(conv4skip)\n",
    "    contractive = tf.keras.layers.Concatenate()([contractive,cropped])\n",
    "\n",
    "    upsample1 = tf.keras.layers.Conv2D(512, kernel_size=(3,3), activation='relu')(contractive)\n",
    "    upsample1 = tf.keras.layers.Conv2D(256, kernel_size=(3,3), activation='relu')(upsample1)\n",
    "    upsample1 = tf.keras.layers.Dropout(0.3)(upsample1)\n",
    "    upsample1 = tf.keras.layers.UpSampling2D((2,2))(upsample1)\n",
    "\n",
    "    cropped2 = tf.keras.layers.Cropping2D(cropping=int((conv3skip.shape[1]-upsample1.shape[1])/2))(conv3skip)\n",
    "    contractive2 = tf.keras.layers.Concatenate()([upsample1, cropped2])\n",
    "\n",
    "    upsample2 = tf.keras.layers.Conv2D(256, kernel_size=(3,3), activation='relu')(contractive2)\n",
    "    upsample2 = tf.keras.layers.Conv2D(128, kernel_size=(3,3), activation='relu')(upsample2)\n",
    "    upsample2 = tf.keras.layers.Dropout(0.3)(upsample2)\n",
    "    upsample2 = tf.keras.layers.UpSampling2D((2,2))(upsample2)\n",
    "\n",
    "    cropped3 = tf.keras.layers.Cropping2D(cropping=int((conv2skip.shape[1]-upsample2.shape[1])/2))(conv2skip)\n",
    "    contractive3 = tf.keras.layers.Concatenate()([cropped3, upsample2])\n",
    "\n",
    "    upsample3 = tf.keras.layers.Conv2D(128, kernel_size=(3,3), activation='relu')(contractive3)\n",
    "    upsample3 = tf.keras.layers.Conv2D(64, kernel_size=(3,3), activation='relu')(upsample3)\n",
    "    upsample3 = tf.keras.layers.Dropout(0.3)(upsample3)\n",
    "    upsample3 = tf.keras.layers.UpSampling2D((2,2))(upsample3)\n",
    "\n",
    "    cropped4 = tf.keras.layers.Cropping2D(cropping=int((conv1skip.shape[1]-upsample3.shape[1])/2))(conv1skip)\n",
    "    contractive4 = tf.keras.layers.Concatenate()([cropped4, upsample3])\n",
    "\n",
    "    upsample4 = tf.keras.layers.Conv2D(64, kernel_size=(3,3), activation='relu')(contractive4)\n",
    "    upsample4 = tf.keras.layers.Conv2D(64, kernel_size=(3,3), activation='relu')(upsample4)\n",
    "\n",
    "    output = tf.keras.layers.Conv2D(2, kernel_size=(1,1), activation='softmax', name='output')(upsample4)\n",
    "    \n",
    "    model = tf.keras.Model(inputs=inputs, outputs=output)\n",
    "\n",
    "    return model\n"
   ]
  },
  {
   "cell_type": "code",
   "execution_count": 14,
   "metadata": {},
   "outputs": [],
   "source": [
    "unet = u_net((300,300,1))"
   ]
  },
  {
   "cell_type": "markdown",
   "metadata": {},
   "source": [
    "# 4.COMPILING OUR U_NET SEGMENTATION MODEL\n",
    "\n",
    "    -We compile our model with SGD optimizer."
   ]
  },
  {
   "cell_type": "code",
   "execution_count": 15,
   "metadata": {},
   "outputs": [],
   "source": [
    "unet.compile(optimizer=tf.keras.optimizers.SGD(learning_rate=0.01, momentum=0.85, name='SGD'),\n",
    "              loss=tf.keras.losses.BinaryCrossentropy(),\n",
    "              metrics=[tf.keras.metrics.AUC()])"
   ]
  },
  {
   "cell_type": "markdown",
   "metadata": {},
   "source": [
    "# 5.LETS RUN OUR MODEL AND SEE OUR PREDICTIONS\n",
    "\n",
    "    -We will show our predictions and charts showing how accurate do model perform with matplotlib library."
   ]
  },
  {
   "cell_type": "code",
   "execution_count": 16,
   "metadata": {},
   "outputs": [
    {
     "name": "stdout",
     "output_type": "stream",
     "text": [
      "Epoch 1/40\n",
      "437/437 [==============================] - 32s 69ms/step - loss: 0.2622 - auc_1: 0.9433\n",
      "Epoch 2/40\n",
      "437/437 [==============================] - 30s 69ms/step - loss: 0.2434 - auc_1: 0.9442\n",
      "Epoch 3/40\n",
      "437/437 [==============================] - 30s 69ms/step - loss: 0.2397 - auc_1: 0.9464\n",
      "Epoch 4/40\n",
      "437/437 [==============================] - 30s 68ms/step - loss: 0.2426 - auc_1: 0.9392\n",
      "Epoch 5/40\n",
      "437/437 [==============================] - 30s 69ms/step - loss: 0.2412 - auc_1: 0.9403\n",
      "Epoch 6/40\n",
      "437/437 [==============================] - 30s 69ms/step - loss: 0.2357 - auc_1: 0.9485\n",
      "Epoch 7/40\n",
      "437/437 [==============================] - 31s 70ms/step - loss: 0.2343 - auc_1: 0.9501\n",
      "Epoch 8/40\n",
      "437/437 [==============================] - 30s 69ms/step - loss: 0.2323 - auc_1: 0.9503\n",
      "Epoch 9/40\n",
      "437/437 [==============================] - 31s 70ms/step - loss: 0.2268 - auc_1: 0.9552\n",
      "Epoch 10/40\n",
      "437/437 [==============================] - 31s 71ms/step - loss: 0.2382 - auc_1: 0.9474\n",
      "Epoch 11/40\n",
      "437/437 [==============================] - 30s 69ms/step - loss: 0.2382 - auc_1: 0.9441\n",
      "Epoch 12/40\n",
      "437/437 [==============================] - 30s 69ms/step - loss: 0.2378 - auc_1: 0.9447\n",
      "Epoch 13/40\n",
      "437/437 [==============================] - 30s 69ms/step - loss: 0.2343 - auc_1: 0.9498\n",
      "Epoch 14/40\n",
      "437/437 [==============================] - 33s 76ms/step - loss: 0.2282 - auc_1: 0.9548\n",
      "Epoch 15/40\n",
      "437/437 [==============================] - 31s 71ms/step - loss: 0.2252 - auc_1: 0.9562\n",
      "Epoch 16/40\n",
      "437/437 [==============================] - 31s 70ms/step - loss: 0.2241 - auc_1: 0.9569\n",
      "Epoch 17/40\n",
      "437/437 [==============================] - 31s 70ms/step - loss: 0.2223 - auc_1: 0.9570\n",
      "Epoch 18/40\n",
      "437/437 [==============================] - 31s 70ms/step - loss: 0.2226 - auc_1: 0.9565\n",
      "Epoch 19/40\n",
      "437/437 [==============================] - 30s 69ms/step - loss: 0.2217 - auc_1: 0.9572\n",
      "Epoch 20/40\n",
      "437/437 [==============================] - 30s 69ms/step - loss: 0.2264 - auc_1: 0.9569\n",
      "Epoch 21/40\n",
      "437/437 [==============================] - 30s 69ms/step - loss: 0.2203 - auc_1: 0.9581\n",
      "Epoch 22/40\n",
      "437/437 [==============================] - 30s 69ms/step - loss: 0.2176 - auc_1: 0.9596\n",
      "Epoch 23/40\n",
      "437/437 [==============================] - 31s 70ms/step - loss: 0.2162 - auc_1: 0.9597\n",
      "Epoch 24/40\n",
      "437/437 [==============================] - 31s 70ms/step - loss: 0.2157 - auc_1: 0.9600\n",
      "Epoch 25/40\n",
      "437/437 [==============================] - 31s 70ms/step - loss: 0.2145 - auc_1: 0.9604\n",
      "Epoch 26/40\n",
      "437/437 [==============================] - 30s 69ms/step - loss: 0.2141 - auc_1: 0.9607\n",
      "Epoch 27/40\n",
      "437/437 [==============================] - 30s 70ms/step - loss: 0.2143 - auc_1: 0.9608\n",
      "Epoch 28/40\n",
      "437/437 [==============================] - 30s 68ms/step - loss: 0.2131 - auc_1: 0.9614\n",
      "Epoch 29/40\n",
      "437/437 [==============================] - 30s 68ms/step - loss: 0.2127 - auc_1: 0.9615\n",
      "Epoch 30/40\n",
      "437/437 [==============================] - 31s 72ms/step - loss: 0.2116 - auc_1: 0.9617\n",
      "Epoch 31/40\n",
      "437/437 [==============================] - 31s 71ms/step - loss: 0.2120 - auc_1: 0.9621\n",
      "Epoch 32/40\n",
      "437/437 [==============================] - 30s 69ms/step - loss: 0.2110 - auc_1: 0.9626\n",
      "Epoch 33/40\n",
      "437/437 [==============================] - 30s 70ms/step - loss: 0.2121 - auc_1: 0.9625\n",
      "Epoch 34/40\n",
      "437/437 [==============================] - 33s 75ms/step - loss: 0.2099 - auc_1: 0.9634\n",
      "Epoch 35/40\n",
      "437/437 [==============================] - 30s 69ms/step - loss: 0.2094 - auc_1: 0.9639\n",
      "Epoch 36/40\n",
      "437/437 [==============================] - 30s 69ms/step - loss: 0.2081 - auc_1: 0.9642\n",
      "Epoch 37/40\n",
      "437/437 [==============================] - 32s 72ms/step - loss: 0.2078 - auc_1: 0.9643\n",
      "Epoch 38/40\n",
      "437/437 [==============================] - 32s 73ms/step - loss: 0.2078 - auc_1: 0.9643\n",
      "Epoch 39/40\n",
      "437/437 [==============================] - 32s 73ms/step - loss: 0.2069 - auc_1: 0.9647\n",
      "Epoch 40/40\n",
      "437/437 [==============================] - 30s 70ms/step - loss: 0.2057 - auc_1: 0.9653\n"
     ]
    }
   ],
   "source": [
    "history = unet.fit(files_ds,epochs=40, batch_size=32)"
   ]
  },
  {
   "cell_type": "code",
   "execution_count": 17,
   "metadata": {},
   "outputs": [],
   "source": [
    "unet.save('unet.h5')\n",
    "unet.save_weights('weights.h5')"
   ]
  },
  {
   "cell_type": "code",
   "execution_count": 18,
   "metadata": {},
   "outputs": [
    {
     "data": {
      "image/png": "[encoded data removed]",
      "text/plain": [
       "<Figure size 640x480 with 1 Axes>"
      ]
     },
     "metadata": {},
     "output_type": "display_data"
    }
   ],
   "source": [
    "plt.title(\"Reconstruction Loss\")\n",
    "epochs=len(history.history['loss'])\n",
    "plt.plot(np.arange(0,epochs),history.history['loss'],label=\"Loss on Train Data\", marker='*',color='green')\n",
    "\n",
    "plt.xlabel(\"Epochs\")\n",
    "plt.ylabel(\"Loss\")\n",
    "plt.xticks(np.arange(0,epochs,5),np.arange(0,epochs,5))\n",
    "plt.legend()\n",
    "plt.show()"
   ]
  }
 ],
 "metadata": {
  "kernelspec": {
   "display_name": "Python 3.9.12 ('efraim')",
   "language": "python",
   "name": "python3"
  },
  "language_info": {
   "codemirror_mode": {
    "name": "ipython",
    "version": 3
   },
   "file_extension": ".py",
   "mimetype": "text/x-python",
   "name": "python",
   "nbconvert_exporter": "python",
   "pygments_lexer": "ipython3",
   "version": "3.9.12"
  },
  "orig_nbformat": 4,
  "vscode": {
   "interpreter": {
    "hash": "831c292f683f7bb2f2b419efde53c93629129160d41933ad638636c972e4a286"
   }
  }
 },
 "nbformat": 4,
 "nbformat_minor": 2
}
